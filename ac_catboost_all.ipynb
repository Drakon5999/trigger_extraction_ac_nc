{
 "cells": [
  {
   "cell_type": "code",
   "execution_count": null,
   "id": "e048471e-b837-4dc0-8dcb-df5c44b365b9",
   "metadata": {},
   "outputs": [],
   "source": [
    "# обучим catboost на всех датасетах и проверим качество"
   ]
  },
  {
   "cell_type": "code",
   "execution_count": 1,
   "id": "9b67acf6-f379-4685-b7e7-7917d1791de0",
   "metadata": {},
   "outputs": [],
   "source": [
    "# add trojan detecting chalange kit to path\n",
    "import sys\n",
    "sys.path.insert(0, '/root/course_project/tdc_starter_kit/')\n"
   ]
  },
  {
   "cell_type": "code",
   "execution_count": 2,
   "id": "640cd921-050b-4b60-ab88-ae83b7a9566b",
   "metadata": {},
   "outputs": [
    {
     "name": "stdout",
     "output_type": "stream",
     "text": [
      "3.10.0 | packaged by conda-forge | (default, Nov 20 2021, 02:24:10) [GCC 9.4.0]\n",
      "True\n"
     ]
    }
   ],
   "source": [
    "import sys\n",
    "print(sys.version)\n",
    "# import solution\n",
    "import importlib\n",
    "# importlib.reload(solution)\n",
    "\n",
    "import os\n",
    "os.environ[\"KMP_DUPLICATE_LIB_OK\"]=\"TRUE\"\n",
    "import torch\n",
    "print(torch.cuda.is_available())\n",
    "\n",
    "\n",
    "import torch\n",
    "# fix for torch transformer\n",
    "class GELU(torch.nn.Module):\n",
    "    def forward(self, input: torch.Tensor) -> torch.Tensor:\n",
    "        return torch.nn.functional.gelu(input)\n",
    "torch.nn.modules.activation.GELU = GELU\n",
    "\n",
    "import torchvision\n",
    "import trojanvision\n",
    "import trojanzoo\n",
    "import argparse\n",
    "\n",
    "import numpy as np # linear algebra\n",
    "import pandas as pd # data processing, CSV file I/O (e.g. pd.read_csv)\n",
    "import torch\n",
    "import shutil\n",
    "import os\n",
    "import torchvision\n",
    "import matplotlib.pyplot as plt\n",
    "import time\n",
    "import copy\n",
    "import random\n",
    "import subprocess\n",
    "\n",
    "from torchvision import transforms\n",
    "import torch\n",
    "from sklearn.decomposition import FastICA, PCA\n",
    "from sklearn.cluster import KMeans, MiniBatchKMeans\n",
    "from sklearn.metrics import silhouette_score\n",
    "from tqdm import tqdm\n",
    "from torchsummary import summary\n",
    "\n",
    "\n",
    "\n",
    "from typing import TYPE_CHECKING\n",
    "import argparse\n",
    "from collections.abc import Callable\n",
    "if TYPE_CHECKING:\n",
    "    import torch.utils.data\n",
    "import json\n",
    "from tdc_starter_kit import utils\n",
    "\n",
    "seed = 77\n",
    "random.seed(seed)\n",
    "np.random.seed(seed)\n",
    "torch.manual_seed(seed)\n",
    "torch.cuda.manual_seed(seed)\n",
    "torch.backends.cudnn.deterministic = True"
   ]
  },
  {
   "cell_type": "code",
   "execution_count": 3,
   "id": "b36b3901-0cd3-419d-ae64-5e72ebdf24b7",
   "metadata": {},
   "outputs": [
    {
     "name": "stderr",
     "output_type": "stream",
     "text": [
      "                                             \r"
     ]
    }
   ],
   "source": [
    "datasets = [\"mnist\", \"cifar10\", \"gtsrb\"]\n",
    "\n",
    "test_df = pd.DataFrame()\n",
    "train_df = pd.DataFrame()\n",
    "\n",
    "test_lables = np.array([])\n",
    "train_lables = np.array([])\n",
    "test_datasets_dict = {}\n",
    "train_datasets_dict = {}\n",
    "test_lables_dict = {}\n",
    "train_lables_dict = {}\n",
    "\n",
    "\n",
    "\n",
    "for dname in tqdm(datasets, leave=False):\n",
    "    tmp_test = pd.read_csv(f\"{dname}_test.pd.csv\", index_col=0)\n",
    "    test_df = pd.concat([test_df, tmp_test], ignore_index=True, copy=False)\n",
    "    test_datasets_dict[dname] = tmp_test\n",
    "    \n",
    "    tmp_train = pd.read_csv(f\"{dname}_train.pd.csv\", index_col=0)\n",
    "    train_df = pd.concat([train_df, tmp_train], ignore_index=True, copy=False)\n",
    "    train_datasets_dict[dname] = tmp_train\n",
    "    \n",
    "    tmp_test_lables = np.load(f\"{dname}_test_lables_1d.np.npy\")\n",
    "    test_lables = np.concatenate([test_lables, tmp_test_lables])\n",
    "    test_lables_dict[dname] = tmp_test_lables\n",
    "    \n",
    "    tmp_train_lables = np.load(f\"{dname}_train_lables_1d.np.npy\")\n",
    "    train_lables = np.concatenate([train_lables, tmp_train_lables])\n",
    "    train_lables_dict[dname] = tmp_train_lables"
   ]
  },
  {
   "cell_type": "code",
   "execution_count": 4,
   "id": "0676fc77-aa93-4b08-b834-125570cf0a71",
   "metadata": {},
   "outputs": [],
   "source": [
    "train_datasets_dict[\"cifar10\"] = train_datasets_dict[\"cifar10\"].assign(classifier_ensurance=train_datasets_dict[\"cifar10\"].classifier_ensurance_first)"
   ]
  },
  {
   "cell_type": "code",
   "execution_count": 5,
   "id": "60118b53-b5a6-4c63-9d17-874131870954",
   "metadata": {},
   "outputs": [],
   "source": [
    "train_datasets_dict[\"mnist\"] = train_datasets_dict[\"mnist\"].assign(classifier_ensurance=train_datasets_dict[\"mnist\"].classifier_ensurance_first)\n",
    "test_datasets_dict[\"mnist\"] = test_datasets_dict[\"mnist\"].assign(classifier_ensurance=test_datasets_dict[\"mnist\"].classifier_ensurance_first)"
   ]
  },
  {
   "cell_type": "code",
   "execution_count": 6,
   "id": "d93f3dd4-d5b1-4fc6-b7c1-71f1641f22ca",
   "metadata": {},
   "outputs": [],
   "source": [
    "to_delete = [\n",
    "    \"all_clusters\",\n",
    "    \"classifier_ensurance_first\", \"classifier_ensurance_second\",\n",
    "    \"image_size\", \"key\", \"nb_classes\", \"nb_dims\", \"nb_clusters\", \"all_pred_label\", \"min_img_dist_to_cluster_means_is_from_the_same_class\", \"min_img_dist_to_cluster_means\"]"
   ]
  },
  {
   "cell_type": "code",
   "execution_count": 7,
   "id": "7f979dbf-ed6f-4752-b029-e5764d78a3fb",
   "metadata": {},
   "outputs": [
    {
     "name": "stderr",
     "output_type": "stream",
     "text": [
      "                                             \r"
     ]
    }
   ],
   "source": [
    "for dname in tqdm(datasets, leave=False):\n",
    "    train_datasets_dict[dname] = train_datasets_dict[dname].drop(to_delete, axis=1, errors='ignore')\n",
    "    test_datasets_dict[dname] = test_datasets_dict[dname].drop(to_delete, axis=1, errors='ignore')\n",
    "    \n"
   ]
  },
  {
   "cell_type": "code",
   "execution_count": 8,
   "id": "8d3a1e34-37ff-4ab3-9e18-37204207b8a9",
   "metadata": {},
   "outputs": [
    {
     "name": "stderr",
     "output_type": "stream",
     "text": [
      "                                             \r"
     ]
    }
   ],
   "source": [
    "train_datasets_dict_norm = {}\n",
    "test_datasets_dict_norm = {}\n",
    "for dname in tqdm(datasets, leave=False):\n",
    "    train_datasets_dict_norm[dname] = train_datasets_dict[dname].iloc[:,:].apply(lambda x: (x-x.min())/(x.max()-x.min()), axis=0)\n",
    "    test_datasets_dict_norm[dname] = test_datasets_dict[dname].iloc[:,:].apply(lambda x: (x-x.min())/(x.max()-x.min()), axis=0)\n",
    "    \n",
    "\n",
    "\n",
    "# df.iloc[:,0:-1] = df.iloc[:,0:-1].apply(lambda x: (x-x.mean())/ x.std(), axis=0)\n"
   ]
  },
  {
   "cell_type": "code",
   "execution_count": 9,
   "id": "bddf6a90-01e4-4e2d-9ffb-2218a61343c6",
   "metadata": {},
   "outputs": [],
   "source": [
    "img_size = {\n",
    "    \"mnist\": 784.0,\n",
    "    \"gtsrb\": 3072.0,\n",
    "    \"cifar10\": 3072.0,\n",
    "}"
   ]
  },
  {
   "cell_type": "code",
   "execution_count": null,
   "id": "bdee874a-774e-4fd7-8c95-0d9236e7afde",
   "metadata": {},
   "outputs": [],
   "source": [
    "# (x-x.min())/(x.max()-x.min())"
   ]
  },
  {
   "cell_type": "code",
   "execution_count": 10,
   "id": "b38ad878-66f1-4ba4-b0a4-29ec79cf18d3",
   "metadata": {},
   "outputs": [],
   "source": [
    "train_df = pd.concat([train_datasets_dict_norm[\"mnist\"], train_datasets_dict_norm[\"gtsrb\"]], ignore_index=True, copy=False)"
   ]
  },
  {
   "cell_type": "code",
   "execution_count": 107,
   "id": "525043cf-5517-4d03-9619-6a12571c5cc9",
   "metadata": {},
   "outputs": [
    {
     "data": {
      "text/html": [
       "<div>\n",
       "<style scoped>\n",
       "    .dataframe tbody tr th:only-of-type {\n",
       "        vertical-align: middle;\n",
       "    }\n",
       "\n",
       "    .dataframe tbody tr th {\n",
       "        vertical-align: top;\n",
       "    }\n",
       "\n",
       "    .dataframe thead th {\n",
       "        text-align: right;\n",
       "    }\n",
       "</style>\n",
       "<table border=\"1\" class=\"dataframe\">\n",
       "  <thead>\n",
       "    <tr style=\"text-align: right;\">\n",
       "      <th></th>\n",
       "      <th>all_sample_silhuette</th>\n",
       "      <th>all_sample_distance_to_cluster_centroid</th>\n",
       "      <th>all_sample_mean_distance_to_cluster_centroid_amoung_cluster</th>\n",
       "      <th>all_sample_relative_cluster_size</th>\n",
       "      <th>all_sample_activation_norm</th>\n",
       "      <th>all_sample_min_distance_to_other_classes</th>\n",
       "      <th>classifier_ensurance</th>\n",
       "    </tr>\n",
       "  </thead>\n",
       "  <tbody>\n",
       "    <tr>\n",
       "      <th>0</th>\n",
       "      <td>0.082178</td>\n",
       "      <td>4.092341e-243</td>\n",
       "      <td>4.092341e-243</td>\n",
       "      <td>2.894798e-01</td>\n",
       "      <td>3.250891e-12</td>\n",
       "      <td>0.251848</td>\n",
       "      <td>0.998753</td>\n",
       "    </tr>\n",
       "    <tr>\n",
       "      <th>1</th>\n",
       "      <td>0.094498</td>\n",
       "      <td>4.092341e-243</td>\n",
       "      <td>4.092341e-243</td>\n",
       "      <td>2.894798e-01</td>\n",
       "      <td>3.250891e-12</td>\n",
       "      <td>0.164945</td>\n",
       "      <td>0.999817</td>\n",
       "    </tr>\n",
       "    <tr>\n",
       "      <th>2</th>\n",
       "      <td>0.064663</td>\n",
       "      <td>4.092341e-243</td>\n",
       "      <td>4.092341e-243</td>\n",
       "      <td>2.894798e-01</td>\n",
       "      <td>3.250891e-12</td>\n",
       "      <td>0.281100</td>\n",
       "      <td>0.999773</td>\n",
       "    </tr>\n",
       "    <tr>\n",
       "      <th>3</th>\n",
       "      <td>0.525299</td>\n",
       "      <td>4.092341e-243</td>\n",
       "      <td>4.092341e-243</td>\n",
       "      <td>2.894798e-01</td>\n",
       "      <td>3.250891e-12</td>\n",
       "      <td>0.073801</td>\n",
       "      <td>0.999883</td>\n",
       "    </tr>\n",
       "    <tr>\n",
       "      <th>4</th>\n",
       "      <td>0.087756</td>\n",
       "      <td>4.092340e-243</td>\n",
       "      <td>4.092214e-243</td>\n",
       "      <td>2.894799e-01</td>\n",
       "      <td>3.250891e-12</td>\n",
       "      <td>0.167494</td>\n",
       "      <td>0.999944</td>\n",
       "    </tr>\n",
       "    <tr>\n",
       "      <th>...</th>\n",
       "      <td>...</td>\n",
       "      <td>...</td>\n",
       "      <td>...</td>\n",
       "      <td>...</td>\n",
       "      <td>...</td>\n",
       "      <td>...</td>\n",
       "      <td>...</td>\n",
       "    </tr>\n",
       "    <tr>\n",
       "      <th>8057515</th>\n",
       "      <td>0.216430</td>\n",
       "      <td>9.999633e-01</td>\n",
       "      <td>9.998284e-01</td>\n",
       "      <td>1.573565e-10</td>\n",
       "      <td>7.305858e-296</td>\n",
       "      <td>0.012402</td>\n",
       "      <td>0.999858</td>\n",
       "    </tr>\n",
       "    <tr>\n",
       "      <th>8057516</th>\n",
       "      <td>0.216430</td>\n",
       "      <td>9.999633e-01</td>\n",
       "      <td>9.998284e-01</td>\n",
       "      <td>1.574082e-10</td>\n",
       "      <td>7.305858e-296</td>\n",
       "      <td>0.014596</td>\n",
       "      <td>0.999268</td>\n",
       "    </tr>\n",
       "    <tr>\n",
       "      <th>8057517</th>\n",
       "      <td>0.216430</td>\n",
       "      <td>9.999633e-01</td>\n",
       "      <td>9.998284e-01</td>\n",
       "      <td>1.574066e-10</td>\n",
       "      <td>7.305858e-296</td>\n",
       "      <td>0.009299</td>\n",
       "      <td>0.999939</td>\n",
       "    </tr>\n",
       "    <tr>\n",
       "      <th>8057518</th>\n",
       "      <td>0.216430</td>\n",
       "      <td>9.999633e-01</td>\n",
       "      <td>9.998284e-01</td>\n",
       "      <td>1.574060e-10</td>\n",
       "      <td>7.305858e-296</td>\n",
       "      <td>0.017058</td>\n",
       "      <td>0.999538</td>\n",
       "    </tr>\n",
       "    <tr>\n",
       "      <th>8057519</th>\n",
       "      <td>0.216430</td>\n",
       "      <td>9.999633e-01</td>\n",
       "      <td>9.998284e-01</td>\n",
       "      <td>1.574053e-10</td>\n",
       "      <td>7.305858e-296</td>\n",
       "      <td>0.010745</td>\n",
       "      <td>0.999880</td>\n",
       "    </tr>\n",
       "  </tbody>\n",
       "</table>\n",
       "<p>8057520 rows × 7 columns</p>\n",
       "</div>"
      ],
      "text/plain": [
       "         all_sample_silhuette  all_sample_distance_to_cluster_centroid  \\\n",
       "0                    0.082178                            4.092341e-243   \n",
       "1                    0.094498                            4.092341e-243   \n",
       "2                    0.064663                            4.092341e-243   \n",
       "3                    0.525299                            4.092341e-243   \n",
       "4                    0.087756                            4.092340e-243   \n",
       "...                       ...                                      ...   \n",
       "8057515              0.216430                             9.999633e-01   \n",
       "8057516              0.216430                             9.999633e-01   \n",
       "8057517              0.216430                             9.999633e-01   \n",
       "8057518              0.216430                             9.999633e-01   \n",
       "8057519              0.216430                             9.999633e-01   \n",
       "\n",
       "         all_sample_mean_distance_to_cluster_centroid_amoung_cluster  \\\n",
       "0                                            4.092341e-243             \n",
       "1                                            4.092341e-243             \n",
       "2                                            4.092341e-243             \n",
       "3                                            4.092341e-243             \n",
       "4                                            4.092214e-243             \n",
       "...                                                    ...             \n",
       "8057515                                       9.998284e-01             \n",
       "8057516                                       9.998284e-01             \n",
       "8057517                                       9.998284e-01             \n",
       "8057518                                       9.998284e-01             \n",
       "8057519                                       9.998284e-01             \n",
       "\n",
       "         all_sample_relative_cluster_size  all_sample_activation_norm  \\\n",
       "0                            2.894798e-01                3.250891e-12   \n",
       "1                            2.894798e-01                3.250891e-12   \n",
       "2                            2.894798e-01                3.250891e-12   \n",
       "3                            2.894798e-01                3.250891e-12   \n",
       "4                            2.894799e-01                3.250891e-12   \n",
       "...                                   ...                         ...   \n",
       "8057515                      1.573565e-10               7.305858e-296   \n",
       "8057516                      1.574082e-10               7.305858e-296   \n",
       "8057517                      1.574066e-10               7.305858e-296   \n",
       "8057518                      1.574060e-10               7.305858e-296   \n",
       "8057519                      1.574053e-10               7.305858e-296   \n",
       "\n",
       "         all_sample_min_distance_to_other_classes  classifier_ensurance  \n",
       "0                                        0.251848              0.998753  \n",
       "1                                        0.164945              0.999817  \n",
       "2                                        0.281100              0.999773  \n",
       "3                                        0.073801              0.999883  \n",
       "4                                        0.167494              0.999944  \n",
       "...                                           ...                   ...  \n",
       "8057515                                  0.012402              0.999858  \n",
       "8057516                                  0.014596              0.999268  \n",
       "8057517                                  0.009299              0.999939  \n",
       "8057518                                  0.017058              0.999538  \n",
       "8057519                                  0.010745              0.999880  \n",
       "\n",
       "[8057520 rows x 7 columns]"
      ]
     },
     "execution_count": 107,
     "metadata": {},
     "output_type": "execute_result"
    }
   ],
   "source": [
    "train_df"
   ]
  },
  {
   "cell_type": "code",
   "execution_count": 108,
   "id": "127cb491-2a35-448f-8411-5eab944963b1",
   "metadata": {},
   "outputs": [
    {
     "data": {
      "text/plain": [
       "(5580000, 7)"
      ]
     },
     "execution_count": 108,
     "metadata": {},
     "output_type": "execute_result"
    }
   ],
   "source": [
    "train_datasets_dict_norm[\"mnist\"].shape"
   ]
  },
  {
   "cell_type": "code",
   "execution_count": 109,
   "id": "47e419cb-c2af-4057-ba2c-bc69eb5e1150",
   "metadata": {},
   "outputs": [
    {
     "data": {
      "text/plain": [
       "(2477520, 7)"
      ]
     },
     "execution_count": 109,
     "metadata": {},
     "output_type": "execute_result"
    }
   ],
   "source": [
    "train_datasets_dict_norm[\"gtsrb\"].shape"
   ]
  },
  {
   "cell_type": "code",
   "execution_count": 110,
   "id": "08c8223a-6aca-477a-9593-a188520cb375",
   "metadata": {},
   "outputs": [
    {
     "data": {
      "text/plain": [
       "(8057520, 7)"
      ]
     },
     "execution_count": 110,
     "metadata": {},
     "output_type": "execute_result"
    }
   ],
   "source": [
    "train_df.shape"
   ]
  },
  {
   "cell_type": "code",
   "execution_count": 11,
   "id": "74933d99-31f7-4795-89ff-4056bafa0b1f",
   "metadata": {},
   "outputs": [],
   "source": [
    "train_lables = np.concatenate((np.load(f\"mnist_train_lables_1d.np.npy\"), np.load(f\"gtsrb_train_lables_1d.np.npy\")))"
   ]
  },
  {
   "cell_type": "code",
   "execution_count": 112,
   "id": "cc7025cf-ed02-4b79-a3b8-920d076dc620",
   "metadata": {},
   "outputs": [
    {
     "data": {
      "text/plain": [
       "(8057520,)"
      ]
     },
     "execution_count": 112,
     "metadata": {},
     "output_type": "execute_result"
    }
   ],
   "source": [
    "train_lables.shape"
   ]
  },
  {
   "cell_type": "code",
   "execution_count": 12,
   "id": "0cbb5491-1e13-4791-b08d-f06fdd5e2808",
   "metadata": {},
   "outputs": [],
   "source": [
    "test_lables = np.load(f\"cifar10_train_lables_1d.np.npy\") # it is ok, not bug, we realy wants train cifar for test\n",
    "test_df =  train_datasets_dict_norm[\"cifar10\"]"
   ]
  },
  {
   "cell_type": "code",
   "execution_count": 18,
   "id": "1b210eed-451f-4f61-adbe-b31579e33de8",
   "metadata": {},
   "outputs": [],
   "source": [
    "from catboost import CatBoostClassifier, Pool\n",
    "from sklearn.metrics import roc_auc_score, f1_score"
   ]
  },
  {
   "cell_type": "code",
   "execution_count": 177,
   "id": "ca579f88-3165-47b3-af94-4aa1501d8662",
   "metadata": {},
   "outputs": [
    {
     "data": {
      "text/plain": [
       "1"
      ]
     },
     "execution_count": 177,
     "metadata": {},
     "output_type": "execute_result"
    }
   ],
   "source": [
    "1"
   ]
  },
  {
   "cell_type": "code",
   "execution_count": 23,
   "id": "cdf9334e-5622-425a-ad89-3354ec08b9ab",
   "metadata": {},
   "outputs": [],
   "source": [
    "train_df = train_datasets_dict_norm[\"mnist\"]\n",
    "train_lables = np.load(f\"mnist_train_lables_1d.np.npy\")\n",
    "test_df = train_datasets_dict_norm[\"gtsrb\"]\n",
    "test_lables = np.load(f\"gtsrb_train_lables_1d.np.npy\")"
   ]
  },
  {
   "cell_type": "code",
   "execution_count": 24,
   "id": "c7cd655a-35a7-48fd-b35a-7499961ed1c4",
   "metadata": {},
   "outputs": [
    {
     "name": "stdout",
     "output_type": "stream",
     "text": [
      "Learning rate set to 0.5\n",
      "0:\tlearn: 0.3614649\ttotal: 92.9ms\tremaining: 9.2s\n",
      "30:\tlearn: 0.0763050\ttotal: 2.31s\tremaining: 5.15s\n",
      "60:\tlearn: 0.0719843\ttotal: 4.54s\tremaining: 2.9s\n",
      "90:\tlearn: 0.0697786\ttotal: 6.79s\tremaining: 672ms\n",
      "99:\tlearn: 0.0693457\ttotal: 7.46s\tremaining: 0us\n"
     ]
    },
    {
     "data": {
      "text/plain": [
       "<catboost.core.CatBoostClassifier at 0x7ff525eb46d0>"
      ]
     },
     "execution_count": 24,
     "metadata": {},
     "output_type": "execute_result"
    }
   ],
   "source": [
    "model = CatBoostClassifier(verbose=30, iterations=100, depth=2)\n",
    "model.fit(train_df, train_lables)"
   ]
  },
  {
   "cell_type": "code",
   "execution_count": 25,
   "id": "95a4ce8a-a12b-438c-9541-7ab6ec481347",
   "metadata": {},
   "outputs": [
    {
     "name": "stdout",
     "output_type": "stream",
     "text": [
      "roc_auc_score(test_lables, preds_proba[:, 1])=0.18250369756819337\n",
      "f1_score(test_lables, preds_class)=0.017896668276195075\n"
     ]
    }
   ],
   "source": [
    "# тестируем на всём тесте\n",
    "preds_proba = model.predict_proba(test_df)\n",
    "preds_class = model.predict(test_df)\n",
    "print(f\"{roc_auc_score(test_lables, preds_proba[:, 1])=}\")\n",
    "print(f\"{f1_score(test_lables, preds_class)=}\")"
   ]
  },
  {
   "cell_type": "code",
   "execution_count": 26,
   "id": "29ad098f-ab6b-400f-abbe-f50f51996cc5",
   "metadata": {},
   "outputs": [],
   "source": [
    "import sklearn.metrics as metrics\n",
    "\n",
    "# probs = model.predict_proba(X_test)\n",
    "# preds = probs[:,1]\n",
    "fpr, tpr, threshold = metrics.roc_curve(test_lables, preds_proba[:, 1])\n",
    "roc_auc = metrics.auc(fpr, tpr)"
   ]
  },
  {
   "cell_type": "code",
   "execution_count": 27,
   "id": "7ed72517-607b-429e-868a-361c04b1b0d4",
   "metadata": {},
   "outputs": [
    {
     "data": {
      "image/png": "[encoded data removed]",
      "text/plain": [
       "<Figure size 640x480 with 1 Axes>"
      ]
     },
     "metadata": {},
     "output_type": "display_data"
    }
   ],
   "source": [
    "\n",
    "fpr_orig, tpr_orig, threshold_orig = metrics.roc_curve(test_lables, test_df.all_sample_silhuette.values)\n",
    "roc_auc_orig = metrics.auc(fpr_orig, tpr_orig)\n",
    "\n",
    "plt.title('MNIST-Train GTSRB-Test')\n",
    "plt.plot(fpr, tpr, 'b', label = 'Our method AUC = %0.2f' % roc_auc)\n",
    "plt.plot(fpr_orig, tpr_orig, 'g', label = 'Original AC AUC = %0.2f' % roc_auc_orig)\n",
    "plt.legend(loc = 'lower right')\n",
    "plt.plot([0, 1], [0, 1],'r--')\n",
    "plt.xlim([0, 1])\n",
    "plt.ylim([0, 1])\n",
    "plt.ylabel('True Positive Rate')\n",
    "plt.xlabel('False Positive Rate')\n",
    "plt.show()"
   ]
  },
  {
   "cell_type": "code",
   "execution_count": 129,
   "id": "eb24441a-df52-40a6-a3ec-dc602ce451f3",
   "metadata": {},
   "outputs": [
    {
     "name": "stdout",
     "output_type": "stream",
     "text": [
      "roc_auc_score(test_lables, preds_proba[:, 1])=0.5608095822209624\n",
      "f1_score(test_lables, preds_class)=0.06750880277896298\n"
     ]
    }
   ],
   "source": []
  },
  {
   "cell_type": "code",
   "execution_count": 133,
   "id": "e7fa7b12-6a67-47b6-acdb-d8bc516c0776",
   "metadata": {},
   "outputs": [
    {
     "name": "stdout",
     "output_type": "stream",
     "text": [
      "roc_auc_score(test_lables, test_df.all_sample_silhuette)=0.49926169249181157\n",
      "f1_score(test_lables, test_df.all_sample_silhuette > 0.11)=0.170708229804829\n"
     ]
    }
   ],
   "source": [
    "print(f\"{roc_auc_score(test_lables, test_df.all_sample_silhuette)=}\")\n",
    "print(f\"{f1_score(test_lables, test_df.all_sample_silhuette > 0.11)=}\")"
   ]
  },
  {
   "cell_type": "code",
   "execution_count": 23,
   "id": "018092a4-869e-4c17-ae9e-1c1c506115ab",
   "metadata": {},
   "outputs": [
    {
     "name": "stdout",
     "output_type": "stream",
     "text": [
      "mnist: roc_auc_score(test_lables_dict[dname], preds_proba[:, 1])=1.0\n",
      "mnist: f1_score(test_lables_dict[dname], preds_class)=0.9999218811030388\n",
      "cifar10: roc_auc_score(test_lables_dict[dname], preds_proba[:, 1])=0.9982150723828125\n",
      "cifar10: f1_score(test_lables_dict[dname], preds_class)=0.9450021583691169\n",
      "cifar100: roc_auc_score(test_lables_dict[dname], preds_proba[:, 1])=1.0\n",
      "cifar100: f1_score(test_lables_dict[dname], preds_class)=0.9985552154226852\n",
      "gtsrb: roc_auc_score(test_lables_dict[dname], preds_proba[:, 1])=0.9999999874321522\n",
      "gtsrb: f1_score(test_lables_dict[dname], preds_class)=0.9946909676440732\n"
     ]
    }
   ],
   "source": [
    "# тестируем на каждом датасете отдельно\n",
    "\n",
    "for dname in datasets:\n",
    "    preds_proba = model.predict_proba(test_datasets_dict[dname].values)\n",
    "    preds_class = model.predict(test_datasets_dict[dname].values)\n",
    "    print(f\"{dname}: {roc_auc_score(test_lables_dict[dname], preds_proba[:, 1])=}\")\n",
    "    print(f\"{dname}: {f1_score(test_lables_dict[dname], preds_class)=}\")"
   ]
  },
  {
   "cell_type": "code",
   "execution_count": 1,
   "id": "e23745ea-432c-4a4a-b1dd-168f48590db4",
   "metadata": {},
   "outputs": [
    {
     "ename": "NameError",
     "evalue": "name 'model' is not defined",
     "output_type": "error",
     "traceback": [
      "\u001b[0;31m---------------------------------------------------------------------------\u001b[0m",
      "\u001b[0;31mNameError\u001b[0m                                 Traceback (most recent call last)",
      "Cell \u001b[0;32mIn[1], line 1\u001b[0m\n\u001b[0;32m----> 1\u001b[0m fi \u001b[38;5;241m=\u001b[39m \u001b[43mmodel\u001b[49m\u001b[38;5;241m.\u001b[39mget_feature_importance()\n\u001b[1;32m      2\u001b[0m fi_list \u001b[38;5;241m=\u001b[39m []\n\u001b[1;32m      3\u001b[0m \u001b[38;5;28;01mfor\u001b[39;00m feature_importance \u001b[38;5;129;01min\u001b[39;00m \u001b[38;5;28mzip\u001b[39m(fi[fi \u001b[38;5;241m>\u001b[39m \u001b[38;5;241m0\u001b[39m], train_df\u001b[38;5;241m.\u001b[39mcolumns[fi \u001b[38;5;241m>\u001b[39m \u001b[38;5;241m0\u001b[39m]):\n",
      "\u001b[0;31mNameError\u001b[0m: name 'model' is not defined"
     ]
    }
   ],
   "source": [
    "fi = model.get_feature_importance()\n",
    "fi_list = []\n",
    "for feature_importance in zip(fi[fi > 0], train_df.columns[fi > 0]):\n",
    "    fi_list.append(feature_importance)\n",
    "\n",
    "fi_list.sort()\n",
    "fi_list"
   ]
  },
  {
   "cell_type": "code",
   "execution_count": 28,
   "id": "bca8b0fc-8ca3-4149-8c9e-7c72e338c61d",
   "metadata": {},
   "outputs": [],
   "source": [
    "test_df_1 = test_df.drop(['all_clusters', 'all_pred_label'], axis=1)\n",
    "train_df_1 = train_df.drop(['all_clusters', 'all_pred_label'], axis=1)"
   ]
  },
  {
   "cell_type": "code",
   "execution_count": null,
   "id": "689e50a2-c42c-4b84-8aa0-4d335f65bbe4",
   "metadata": {},
   "outputs": [],
   "source": [
    "model = CatBoostClassifier()\n",
    "model.fit(train_df_1.values, train_lables)"
   ]
  },
  {
   "cell_type": "code",
   "execution_count": 30,
   "id": "b1cbe5e9-919b-4f6f-a580-a679d17851c4",
   "metadata": {},
   "outputs": [
    {
     "name": "stdout",
     "output_type": "stream",
     "text": [
      "roc_auc_score(test_lables, preds_proba[:, 1])=0.998943806861812\n",
      "f1_score(test_lables, preds_class)=0.9811665373190247\n"
     ]
    }
   ],
   "source": [
    "# тестируем на всём тесте\n",
    "preds_proba = model.predict_proba(test_df_1.values)\n",
    "preds_class = model.predict(test_df_1.values)\n",
    "print(f\"{roc_auc_score(test_lables, preds_proba[:, 1])=}\")\n",
    "print(f\"{f1_score(test_lables, preds_class)=}\")"
   ]
  },
  {
   "cell_type": "code",
   "execution_count": 33,
   "id": "c1a3a6d6-e490-40f5-ad96-2f5c8f211186",
   "metadata": {},
   "outputs": [],
   "source": [
    "test_datasets_dict_1 = {}\n",
    "for k, v in test_datasets_dict.items():\n",
    "    test_datasets_dict_1[k] = v.drop(['all_clusters', 'all_pred_label'], axis=1)"
   ]
  },
  {
   "cell_type": "code",
   "execution_count": 34,
   "id": "8e4b9e34-6e95-4331-acf7-93bb94b8e5da",
   "metadata": {},
   "outputs": [
    {
     "name": "stdout",
     "output_type": "stream",
     "text": [
      "mnist: roc_auc_score(test_lables_dict[dname], preds_proba[:, 1])=0.9999975049581646\n",
      "mnist: f1_score(test_lables_dict[dname], preds_class)=0.9998073287960133\n",
      "cifar10: roc_auc_score(test_lables_dict[dname], preds_proba[:, 1])=0.9964540307552083\n",
      "cifar10: f1_score(test_lables_dict[dname], preds_class)=0.9608213335734893\n",
      "cifar100: roc_auc_score(test_lables_dict[dname], preds_proba[:, 1])=0.9999986111111111\n",
      "cifar100: f1_score(test_lables_dict[dname], preds_class)=0.9828311680334162\n",
      "gtsrb: roc_auc_score(test_lables_dict[dname], preds_proba[:, 1])=0.9999951690538762\n",
      "gtsrb: f1_score(test_lables_dict[dname], preds_class)=0.9733117924770652\n"
     ]
    }
   ],
   "source": [
    "# тестируем на каждом датасете отдельно\n",
    "\n",
    "for dname in datasets:\n",
    "    preds_proba = model.predict_proba(test_datasets_dict_1[dname].values)\n",
    "    preds_class = model.predict(test_datasets_dict_1[dname].values)\n",
    "    print(f\"{dname}: {roc_auc_score(test_lables_dict[dname], preds_proba[:, 1])=}\")\n",
    "    print(f\"{dname}: {f1_score(test_lables_dict[dname], preds_class)=}\")"
   ]
  },
  {
   "cell_type": "code",
   "execution_count": 36,
   "id": "88606be8-e3e5-4aaa-86c2-5b171ac1d70a",
   "metadata": {},
   "outputs": [
    {
     "data": {
      "text/plain": [
       "[(0.43392854386260277,\n",
       "  'all_sample_mean_distance_to_cluster_centroid_amoung_cluster'),\n",
       " (0.4695390127898757, 'all_sample_activation_norm'),\n",
       " (0.7478298030289534, 'nb_classes'),\n",
       " (2.364341846943206, 'all_sample_relative_cluster_size'),\n",
       " (14.233874080319405, 'all_sample_min_distance_to_other_classes'),\n",
       " (14.80500256315978, 'all_sample_distance_to_cluster_centroid'),\n",
       " (17.674429852359925, 'classifier_ensurance'),\n",
       " (18.695393059584323, 'all_sample_silhuette'),\n",
       " (30.575661237951934, 'image_size')]"
      ]
     },
     "execution_count": 36,
     "metadata": {},
     "output_type": "execute_result"
    }
   ],
   "source": [
    "fi = model.get_feature_importance()\n",
    "fi_list = []\n",
    "for feature_importance in zip(fi[fi > 0], test_df_1.columns[fi > 0]):\n",
    "    fi_list.append(feature_importance)\n",
    "\n",
    "fi_list.sort()\n",
    "fi_list"
   ]
  },
  {
   "cell_type": "code",
   "execution_count": null,
   "id": "fac6202e-ca20-46f5-9c08-538438f14774",
   "metadata": {},
   "outputs": [],
   "source": []
  }
 ],
 "metadata": {
  "kernelspec": {
   "display_name": "Python 3 (ipykernel)",
   "language": "python",
   "name": "python3"
  },
  "language_info": {
   "codemirror_mode": {
    "name": "ipython",
    "version": 3
   },
   "file_extension": ".py",
   "mimetype": "text/x-python",
   "name": "python",
   "nbconvert_exporter": "python",
   "pygments_lexer": "ipython3",
   "version": "3.10.0"
  }
 },
 "nbformat": 4,
 "nbformat_minor": 5
}
